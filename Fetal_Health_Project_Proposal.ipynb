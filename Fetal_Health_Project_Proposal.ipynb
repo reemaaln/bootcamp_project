{
 "cells": [
  {
   "cell_type": "markdown",
   "id": "882c65b6",
   "metadata": {},
   "source": [
    "# Project Proposal"
   ]
  },
  {
   "cell_type": "markdown",
   "id": "2df861df",
   "metadata": {},
   "source": [
    "Project name: Fetal Health Classification\n",
    "\n",
    "Author name: Reema Alnafisi\n",
    "\n",
    "Submission date: 7/11/2021"
   ]
  },
  {
   "cell_type": "markdown",
   "id": "439470c8",
   "metadata": {},
   "source": [
    "## Overview"
   ]
  },
  {
   "cell_type": "markdown",
   "id": "f707fdc2",
   "metadata": {},
   "source": [
    "Child and maternal mortality are considered huge threats to fetals and their mothers. Child mortality is the term used to describe the probability of a child to be dead between birth and five years of age. Moreover, the annual number opf female deaths from any cause related to pregnancy is refered to maternal mortality.\n",
    "It is important to note that there are more than 295000 deaths during pregnancy and childbirth as of 2017. The vast majority of these deaths, 94%, occured in settings eith low-resources while most of them could have been prevented.\n",
    "Cardiotography (CTG) is a graphic technique used for monitoring the fetal heartbeat and uterine contractions during pregnancy. This is done by using a machine called a cardiotocogram. Cardiotocograms are considered a simple and cost-efficient option used to assess the fetal's health, allowing healthcare professionals to take an action to prevent the child and maternal mortality. The equipment itself works by sending ultrasound pulses and reading its response, thus shedding light on fetal heart rate (FHR), fetal movements, uterine contractions and more.\n",
    "\n",
    "\n",
    "References: https://www.who.int/data/gho/indicator-metadata-registry/imr-details/4622#:~:text=Definition%3A,and%20site%20of%20the%20pregnancy.\n",
    "\n",
    "https://www.oecd-ilibrary.org/docserver/f6f2837d-en.pdf?expires=1636232071&id=id&accname=guest&checksum=633B4CC95CFCD70E806E8BFE81EEF0CF#:~:text=Definition%20and%20measurement&text=The%20child%20mortality%20rate%20(or,current%20age%2Dspecific%20mortality%20rates.\n",
    "\n",
    "http://eknygos.lsmuni.lt/akuserijaen/Obstetrics/4%20CTG%20engl.html"
   ]
  },
  {
   "cell_type": "markdown",
   "id": "032665a2",
   "metadata": {},
   "source": [
    "## The Data"
   ]
  },
  {
   "cell_type": "markdown",
   "id": "87eaa6ef",
   "metadata": {},
   "source": [
    "Dataset: \n",
    "The dataset was downloaded from Kaggle and can be found in my github page: https://github.com/reemaaln/bootcamp_project\n",
    "\n",
    "The used dataset contains 2126 records of features extracted from Cardiotocogram exams, which were then classified by three expert obstetritians into 3 classes:\n",
    "\n",
    "- Normal\n",
    "- Suspect\n",
    "- Pathological\n",
    "\n",
    "The classification is based on several features mentioned below:\n",
    "- baseline value: Baseline Fetal Heart Rate (FHR)\n",
    "- accelerations: Number of accelerations per second\n",
    "- fetal_movement: Number of fetal movements per second\n",
    "- uterine_con: Number of uterine contractions per second\n",
    "- light_decelerations: Number of LDs per second\n",
    "- severe_decelerations: Number of SDs per second\n",
    "- prolongued_decelerations: Number of PDs per second\n",
    "- abnormal_short_term_variability: Percentage of time with abnormal short term variability\n",
    "- mean_value_of_short_term_variability: Mean value of short term variability\n",
    "- percentage_of_ti: Percentage of time with abnormal long term variability\n",
    "- mean_value_of_ti: Mean value of time with abnormal long term variability\n",
    "- histogram_width\n",
    "- histogram_min\n",
    "- histogram_max\n",
    "- histogram_number_of_peaks\n",
    "- histogram_number_of_zeroes\n",
    "- histogram_mode\n",
    "- histogram_mean\n",
    "- histogram_median\n",
    "- histogram_variance\n",
    "- histogram_tendency\n",
    "- fetal_health\n",
    "\n",
    "The fetal_health column is the target column."
   ]
  },
  {
   "cell_type": "markdown",
   "id": "4be2415c",
   "metadata": {},
   "source": [
    "## Purpose"
   ]
  },
  {
   "cell_type": "markdown",
   "id": "3fa73d9b",
   "metadata": {},
   "source": [
    "The project aims to classify the fetal health into three classifications: normal, suspect, or pathological based on the features "
   ]
  },
  {
   "cell_type": "markdown",
   "id": "376d3c0c",
   "metadata": {},
   "source": [
    "## Benefits"
   ]
  },
  {
   "cell_type": "markdown",
   "id": "aaaeedcd",
   "metadata": {},
   "source": [
    "The model should help the health professionals to investigate the signals resulting from the cardiotogram. This will determine when should they take action according to the fetal and mother health and may help in reducing fetal and maternal mortality."
   ]
  },
  {
   "cell_type": "markdown",
   "id": "983d999f",
   "metadata": {},
   "source": [
    "## Tools"
   ]
  },
  {
   "cell_type": "markdown",
   "id": "35ebf863",
   "metadata": {},
   "source": [
    "To start with, I am planning on using the following tools. However, slight changes may occur during implementation:\n",
    "- cleaning data may be needed\n",
    "- box plot to visualize the relationship between some features.\n",
    "- logistic regression to visualize the relationship between the FHR and each of the three classes: normal, suspect, and pathological.\n",
    "- pairplot may be used to detect relationships between variables.\n",
    "- a variety of classifiers might be used for experimentations purposes.\n",
    "\n",
    "Using additinal tools may be required based on the results obtained."
   ]
  },
  {
   "cell_type": "markdown",
   "id": "ed5e31b4",
   "metadata": {},
   "source": [
    "## MVP Goal:"
   ]
  },
  {
   "cell_type": "markdown",
   "id": "6f8df733",
   "metadata": {},
   "source": [
    "Many relationships might be obtained from the dataset chosen. However, the MVP goal of this project will be to answer the following questions:\n",
    "\n",
    "- How do uterine contractions effects the fetal health?\n",
    "- What is the relationship between Baseline Fetal Heart Rate and uterine contractions for Pathological fetal?\n",
    "- What is the relationship between severe decelerations and uterine contractions in each type of fetal health?\n",
    "\n",
    "For sure, more questions might be answered during implementation if certain relationships were detected."
   ]
  },
  {
   "cell_type": "code",
   "execution_count": null,
   "id": "21e68191",
   "metadata": {},
   "outputs": [],
   "source": []
  }
 ],
 "metadata": {
  "kernelspec": {
   "display_name": "Python 3 (ipykernel)",
   "language": "python",
   "name": "python3"
  },
  "language_info": {
   "codemirror_mode": {
    "name": "ipython",
    "version": 3
   },
   "file_extension": ".py",
   "mimetype": "text/x-python",
   "name": "python",
   "nbconvert_exporter": "python",
   "pygments_lexer": "ipython3",
   "version": "3.8.11"
  }
 },
 "nbformat": 4,
 "nbformat_minor": 5
}
